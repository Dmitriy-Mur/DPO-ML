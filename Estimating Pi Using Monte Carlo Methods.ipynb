{
  "cells": [
    {
      "cell_type": "markdown",
      "metadata": {},
      "source": [
        "# Estimating Pi Using Monte Carlo Methods\n"
      ]
    },
    {
      "cell_type": "markdown",
      "metadata": {},
      "source": [
        "Statring with imports"
      ]
    },
    {
      "cell_type": "code",
      "execution_count": null,
      "metadata": {},
      "outputs": [],
      "source": [
        "import numpy as np\n",
        "import matplotlib.pyplot as plt\n",
        "from ipywidgets import interact\n",
        "import ipywidgets as widgets"
      ]
    },
    {
      "cell_type": "markdown",
      "metadata": {},
      "source": [
        "$r = sqrt(x^2 + y^2)$\n",
        "\n",
        "$\\pi = 4\\frac{inside}{number}$"
      ]
    },
    {
      "cell_type": "code",
      "execution_count": null,
      "metadata": {},
      "outputs": [],
      "source": [
        "def calculate_distnce(x, y):\n",
        "    return np.sqrt(x**2 + y**2)\n",
        "\n",
        "\n",
        "def is_inside(distances):\n",
        "    return distances <= 1\n",
        "\n",
        "\n",
        "def get_pi_estimate(points_inside, num_points):\n",
        "    return 4 * points_inside / num_points"
      ]
    },
    {
      "cell_type": "markdown",
      "metadata": {},
      "source": [
        "### Let`s draw"
      ]
    },
    {
      "cell_type": "code",
      "execution_count": null,
      "metadata": {},
      "outputs": [],
      "source": [
        "def draw_graphic(x, y, inside_circle, pi_estimate, points_inside, num_points):\n",
        "    plt.figure(figsize=(8, 8))\n",
        "    plt.scatter(x[inside_circle], y[inside_circle], color='blue', s=1, label='Inside Circle')\n",
        "    plt.scatter(x[~inside_circle], y[~inside_circle], color='red', s=1, label='Outside Circle')\n",
        "    plt.gca().set_aspect('equal', adjustable='box')\n",
        "    plt.legend(loc=\"upper right\")\n",
        "    plt.title(f\"Estimation of π = {pi_estimate}\\nPoints inside circle = {points_inside}, Total points = {num_points}\")\n",
        "    plt.show()"
      ]
    },
    {
      "cell_type": "code",
      "execution_count": 14,
      "metadata": {},
      "outputs": [
        {
          "data": {
            "application/vnd.jupyter.widget-view+json": {
              "model_id": "f9101edd9dc94ce2b1ed7599345a0f7e",
              "version_major": 2,
              "version_minor": 0
            },
            "text/plain": [
              "interactive(children=(IntSlider(value=1000, description='num_points', max=10000, min=10, step=50), Output()), …"
            ]
          },
          "metadata": {},
          "output_type": "display_data"
        },
        {
          "data": {
            "text/plain": [
              "<function __main__.calculate_pi(num_points)>"
            ]
          },
          "execution_count": 14,
          "metadata": {},
          "output_type": "execute_result"
        }
      ],
      "source": [
        "\n",
        "\n",
        "def calculate_pi(num_points):\n",
        "    x = np.random.uniform(-1, 1, num_points)\n",
        "    y = np.random.uniform(-1, 1, num_points)\n",
        "    \n",
        "    distances = calculate_distnce(x, y)\n",
        "    inside_circle = is_inside(distances)\n",
        "    points_inside = np.sum(inside_circle)\n",
        "    pi_estimate = get_pi_estimate(points_inside, num_points)\n",
        "    \n",
        "    \n",
        "    draw_graphic(x, y, inside_circle, pi_estimate, points_inside, num_points)\n",
        "    return pi_estimate\n",
        "\n",
        "\n",
        "interact(calculate_pi, num_points=widgets.IntSlider(min=10, max=10000, step=50, value=1000))\n"
      ]
    }
  ],
  "metadata": {
    "colab": {
      "collapsed_sections": [],
      "name": "How to build own text summarizer using deep learning.ipynb",
      "provenance": [],
      "version": "0.3.2"
    },
    "kernelspec": {
      "display_name": "Python 3",
      "language": "python",
      "name": "python3"
    },
    "language_info": {
      "codemirror_mode": {
        "name": "ipython",
        "version": 3
      },
      "file_extension": ".py",
      "mimetype": "text/x-python",
      "name": "python",
      "nbconvert_exporter": "python",
      "pygments_lexer": "ipython3",
      "version": "3.12.4"
    }
  },
  "nbformat": 4,
  "nbformat_minor": 0
}
